{
  "nbformat": 4,
  "nbformat_minor": 0,
  "metadata": {
    "colab": {
      "name": "Day 1 Data Preprocessing.ipynb",
      "version": "0.3.2",
      "provenance": [],
      "include_colab_link": true
    },
    "kernelspec": {
      "name": "python3",
      "display_name": "Python 3"
    }
  },
  "cells": [
    {
      "cell_type": "markdown",
      "metadata": {
        "id": "view-in-github",
        "colab_type": "text"
      },
      "source": [
        "<a href=\"https://colab.research.google.com/github/CoachSalimSagadatovich/100-Days-Of-ML-Code/blob/master/code/Day_1_Data_Preprocessing.ipynb\" target=\"_parent\"><img src=\"https://colab.research.google.com/assets/colab-badge.svg\" alt=\"Open In Colab\"/></a>"
      ]
    },
    {
      "cell_type": "markdown",
      "metadata": {
        "id": "OOWSGS7QQnuX",
        "colab_type": "text"
      },
      "source": [
        "Импортируем библиотеки"
      ]
    },
    {
      "cell_type": "code",
      "metadata": {
        "id": "mkTTaPwePqGg",
        "colab_type": "code",
        "colab": {}
      },
      "source": [
        "import numpy as np\n",
        "import pandas as pd"
      ],
      "execution_count": 0,
      "outputs": []
    },
    {
      "cell_type": "markdown",
      "metadata": {
        "id": "qScXGnUpQuiH",
        "colab_type": "text"
      },
      "source": [
        "Загружаем данные"
      ]
    },
    {
      "cell_type": "code",
      "metadata": {
        "id": "eAC6gR_MSLSu",
        "colab_type": "code",
        "colab": {}
      },
      "source": [
        "data = pd.read_csv('Data.csv')\n",
        "X = data.iloc[ : , : -1].values\n",
        "y = data.iloc[ : , : 3].values"
      ],
      "execution_count": 0,
      "outputs": []
    },
    {
      "cell_type": "markdown",
      "metadata": {
        "id": "wNX3vVjYSpSH",
        "colab_type": "text"
      },
      "source": [
        "Обрабытываем пропущенные данные"
      ]
    },
    {
      "cell_type": "code",
      "metadata": {
        "id": "ToXNklhnSLgs",
        "colab_type": "code",
        "colab": {
          "base_uri": "https://localhost:8080/",
          "height": 71
        },
        "outputId": "0c169d07-dad2-4fbb-d6a6-113dd028616f"
      },
      "source": [
        "from sklearn.preprocessing import Imputer\n",
        "imputer = Imputer(missing_values = \"NaN\", strategy = \"mean\", axis = 0)\n",
        "imputer = imputer.fit(X[ : , 1:3])\n",
        "X[ : , 1:3] = imputer.transform(X[ : , 1:3])"
      ],
      "execution_count": 21,
      "outputs": [
        {
          "output_type": "stream",
          "text": [
            "/usr/local/lib/python3.6/dist-packages/sklearn/utils/deprecation.py:66: DeprecationWarning: Class Imputer is deprecated; Imputer was deprecated in version 0.20 and will be removed in 0.22. Import impute.SimpleImputer from sklearn instead.\n",
            "  warnings.warn(msg, category=DeprecationWarning)\n"
          ],
          "name": "stderr"
        }
      ]
    },
    {
      "cell_type": "markdown",
      "metadata": {
        "id": "Djn8IoPuUQlT",
        "colab_type": "text"
      },
      "source": [
        "Признаки нулевого столбца  превращаем в число"
      ]
    },
    {
      "cell_type": "code",
      "metadata": {
        "id": "4B14B7KnTpof",
        "colab_type": "code",
        "colab": {}
      },
      "source": [
        "from sklearn.preprocessing import LabelEncoder, OneHotEncoder\n",
        "labekkencoder_X = LabelEncoder()\n",
        "X[ : , 0] = labelencoder_X.fit_transform(X[ : , 0])"
      ],
      "execution_count": 0,
      "outputs": []
    },
    {
      "cell_type": "markdown",
      "metadata": {
        "id": "4N95Ws--V6wg",
        "colab_type": "text"
      },
      "source": [
        "Значение y превращаем в еденичный вектор"
      ]
    },
    {
      "cell_type": "code",
      "metadata": {
        "id": "JLV_Xtm4VJcH",
        "colab_type": "code",
        "colab": {
          "base_uri": "https://localhost:8080/",
          "height": 139
        },
        "outputId": "b5f35591-a75c-4ff4-c69d-cc483886590c"
      },
      "source": [
        "onehotencoder = OneHotEncoder(categorical_features = [0])\n",
        "X = onehotencoder.fit_transform(X).toarray()\n",
        "labelencoder_Y = LabelEncoder()\n",
        "Y = labelencoder_Y.fit_transform(Y)"
      ],
      "execution_count": 27,
      "outputs": [
        {
          "output_type": "stream",
          "text": [
            "/usr/local/lib/python3.6/dist-packages/sklearn/preprocessing/_encoders.py:415: FutureWarning: The handling of integer data will change in version 0.22. Currently, the categories are determined based on the range [0, max(values)], while in the future they will be determined based on the unique values.\n",
            "If you want the future behaviour and silence this warning, you can specify \"categories='auto'\".\n",
            "In case you used a LabelEncoder before this OneHotEncoder to convert the categories to integers, then you can now use the OneHotEncoder directly.\n",
            "  warnings.warn(msg, FutureWarning)\n",
            "/usr/local/lib/python3.6/dist-packages/sklearn/preprocessing/_encoders.py:451: DeprecationWarning: The 'categorical_features' keyword is deprecated in version 0.20 and will be removed in 0.22. You can use the ColumnTransformer instead.\n",
            "  \"use the ColumnTransformer instead.\", DeprecationWarning)\n"
          ],
          "name": "stderr"
        }
      ]
    },
    {
      "cell_type": "markdown",
      "metadata": {
        "id": "VcQMP32RWQIH",
        "colab_type": "text"
      },
      "source": [
        "Разделяем датасет на тренировочную выборку и тестовую"
      ]
    },
    {
      "cell_type": "code",
      "metadata": {
        "id": "E_kzkYdvUmuR",
        "colab_type": "code",
        "colab": {}
      },
      "source": [
        "from sklearn.model_selection import train_test_split\n",
        "X_train, X_test, y_train, y_test = train_test_split( X , Y , test_size = 0.2, random_state = 1)"
      ],
      "execution_count": 0,
      "outputs": []
    },
    {
      "cell_type": "markdown",
      "metadata": {
        "id": "MFMh2STzXbM9",
        "colab_type": "text"
      },
      "source": [
        "Нормализация данных"
      ]
    },
    {
      "cell_type": "code",
      "metadata": {
        "id": "eqTTDmc2XhuK",
        "colab_type": "code",
        "colab": {}
      },
      "source": [
        "from sklearn.preprocessing import StandardScaler\n",
        "sc_X = StandardScaler()\n",
        "X_train = sc_X.fit_transform(X_train)\n",
        "X_test = sc_X.fit_transform(X_test)"
      ],
      "execution_count": 0,
      "outputs": []
    },
    {
      "cell_type": "code",
      "metadata": {
        "id": "Ai4LERG5YAoA",
        "colab_type": "code",
        "colab": {
          "base_uri": "https://localhost:8080/",
          "height": 289
        },
        "outputId": "4b38f011-3e6d-4945-829a-53e167c1de3e"
      },
      "source": [
        "X_train"
      ],
      "execution_count": 39,
      "outputs": [
        {
          "output_type": "execute_result",
          "data": {
            "text/plain": [
              "array([[ 0.77459667, -0.77459667, -0.57735027,  1.29099445, -0.19159184,\n",
              "        -1.07812594],\n",
              "       [ 0.77459667, -0.77459667,  1.73205081, -0.77459667, -0.01411729,\n",
              "        -0.07013168],\n",
              "       [-1.29099445,  1.29099445, -0.57735027, -0.77459667,  0.56670851,\n",
              "         0.63356243],\n",
              "       [ 0.77459667, -0.77459667, -0.57735027,  1.29099445, -0.30453019,\n",
              "        -0.30786617],\n",
              "       [ 0.77459667, -0.77459667, -0.57735027,  1.29099445, -1.90180114,\n",
              "        -1.42046362],\n",
              "       [-1.29099445,  1.29099445, -0.57735027, -0.77459667,  1.14753431,\n",
              "         1.23265336],\n",
              "       [ 0.77459667, -0.77459667,  1.73205081, -0.77459667,  1.43794721,\n",
              "         1.57499104],\n",
              "       [-1.29099445,  1.29099445, -0.57735027, -0.77459667, -0.74014954,\n",
              "        -0.56461943]])"
            ]
          },
          "metadata": {
            "tags": []
          },
          "execution_count": 39
        }
      ]
    },
    {
      "cell_type": "markdown",
      "metadata": {
        "id": "zlj-42IbXXC4",
        "colab_type": "text"
      },
      "source": [
        "Step 1: Importing the libraries\n",
        "import numpy as np\n",
        "import pandas as pd\n",
        "Step 2: Importing dataset\n",
        "dataset = pd.read_csv('Data.csv')\n",
        "X = dataset.iloc[ : , :-1].values\n",
        "Y = dataset.iloc[ : , 3].values\n",
        "Step 3: Handling the missing data\n",
        "from sklearn.preprocessing import Imputer\n",
        "imputer = Imputer(missing_values = \"NaN\", strategy = \"mean\", axis = 0)\n",
        "imputer = imputer.fit(X[ : , 1:3])\n",
        "X[ : , 1:3] = imputer.transform(X[ : , 1:3])\n",
        "Step 4: Encoding categorical data\n",
        "from sklearn.preprocessing import LabelEncoder, OneHotEncoder\n",
        "labelencoder_X = LabelEncoder()\n",
        "X[ : , 0] = labelencoder_X.fit_transform(X[ : , 0])\n",
        "Creating a dummy variable\n",
        "onehotencoder = OneHotEncoder(categorical_features = [0])\n",
        "X = onehotencoder.fit_transform(X).toarray()\n",
        "labelencoder_Y = LabelEncoder()\n",
        "Y =  labelencoder_Y.fit_transform(Y)\n",
        "Step 5: Splitting the datasets into training sets and Test sets\n",
        "from sklearn.cross_validation import train_test_split\n",
        "X_train, X_test, Y_train, Y_test = train_test_split( X , Y , test_size = 0.2, random_state = 0)\n",
        "Step 6: Feature Scaling"
      ]
    },
    {
      "cell_type": "code",
      "metadata": {
        "id": "aOaDRjXHXgwN",
        "colab_type": "code",
        "colab": {}
      },
      "source": [
        ""
      ],
      "execution_count": 0,
      "outputs": []
    },
    {
      "cell_type": "code",
      "metadata": {
        "id": "P_YP5f_uXYVk",
        "colab_type": "code",
        "colab": {}
      },
      "source": [
        ""
      ],
      "execution_count": 0,
      "outputs": []
    }
  ]
}